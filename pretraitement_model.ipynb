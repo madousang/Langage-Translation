{
 "cells": [
  {
   "cell_type": "code",
   "execution_count": 25,
   "id": "7d1de2e0",
   "metadata": {},
   "outputs": [],
   "source": [
    "%matplotlib inline"
   ]
  },
  {
   "cell_type": "code",
   "execution_count": 87,
   "id": "3cceb03f",
   "metadata": {},
   "outputs": [],
   "source": [
    "import pandas as pd\n",
    "import numpy as np\n",
    "import matplotlib.pyplot as plt\n",
    "from sklearn.feature_extraction.text import CountVectorizer\n",
    "from sklearn.feature_extraction.text import TfidfTransformer\n",
    "from sklearn import metrics\n",
    "from sklearn.svm import SVC\n",
    "from sklearn.multioutput import MultiOutputClassifier\n",
    "from sklearn.model_selection import train_test_split\n",
    "from sklearn.pipeline import make_pipeline\n",
    "from sklearn.linear_model import SGDClassifier\n",
    "from sklearn.model_selection import GridSearchCV\n",
    "import joblib\n",
    "import seaborn as sn"
   ]
  },
  {
   "cell_type": "code",
   "execution_count": 27,
   "id": "81231ec1",
   "metadata": {},
   "outputs": [
    {
     "data": {
      "text/html": [
       "<div>\n",
       "<style scoped>\n",
       "    .dataframe tbody tr th:only-of-type {\n",
       "        vertical-align: middle;\n",
       "    }\n",
       "\n",
       "    .dataframe tbody tr th {\n",
       "        vertical-align: top;\n",
       "    }\n",
       "\n",
       "    .dataframe thead th {\n",
       "        text-align: right;\n",
       "    }\n",
       "</style>\n",
       "<table border=\"1\" class=\"dataframe\">\n",
       "  <thead>\n",
       "    <tr style=\"text-align: right;\">\n",
       "      <th></th>\n",
       "      <th>Text</th>\n",
       "      <th>language</th>\n",
       "    </tr>\n",
       "  </thead>\n",
       "  <tbody>\n",
       "    <tr>\n",
       "      <th>0</th>\n",
       "      <td>klement gottwaldi surnukeha palsameeriti ning ...</td>\n",
       "      <td>Estonian</td>\n",
       "    </tr>\n",
       "    <tr>\n",
       "      <th>1</th>\n",
       "      <td>sebes joseph pereira thomas  på eng the jesuit...</td>\n",
       "      <td>Swedish</td>\n",
       "    </tr>\n",
       "    <tr>\n",
       "      <th>2</th>\n",
       "      <td>ถนนเจริญกรุง อักษรโรมัน thanon charoen krung เ...</td>\n",
       "      <td>Thai</td>\n",
       "    </tr>\n",
       "    <tr>\n",
       "      <th>3</th>\n",
       "      <td>விசாகப்பட்டினம் தமிழ்ச்சங்கத்தை இந்துப் பத்திர...</td>\n",
       "      <td>Tamil</td>\n",
       "    </tr>\n",
       "    <tr>\n",
       "      <th>4</th>\n",
       "      <td>de spons behoort tot het geslacht haliclona en...</td>\n",
       "      <td>Dutch</td>\n",
       "    </tr>\n",
       "    <tr>\n",
       "      <th>...</th>\n",
       "      <td>...</td>\n",
       "      <td>...</td>\n",
       "    </tr>\n",
       "    <tr>\n",
       "      <th>21995</th>\n",
       "      <td>hors du terrain les années  et  sont des année...</td>\n",
       "      <td>French</td>\n",
       "    </tr>\n",
       "    <tr>\n",
       "      <th>21996</th>\n",
       "      <td>ใน พศ  หลักจากที่เสด็จประพาสแหลมมลายู ชวา อินเ...</td>\n",
       "      <td>Thai</td>\n",
       "    </tr>\n",
       "    <tr>\n",
       "      <th>21997</th>\n",
       "      <td>con motivo de la celebración del septuagésimoq...</td>\n",
       "      <td>Spanish</td>\n",
       "    </tr>\n",
       "    <tr>\n",
       "      <th>21998</th>\n",
       "      <td>年月，當時還只有歲的她在美國出道，以mai-k名義推出首張英文《baby i like》，由...</td>\n",
       "      <td>Chinese</td>\n",
       "    </tr>\n",
       "    <tr>\n",
       "      <th>21999</th>\n",
       "      <td>aprilie sonda spațială messenger a nasa și-a ...</td>\n",
       "      <td>Romanian</td>\n",
       "    </tr>\n",
       "  </tbody>\n",
       "</table>\n",
       "<p>22000 rows × 2 columns</p>\n",
       "</div>"
      ],
      "text/plain": [
       "                                                    Text  language\n",
       "0      klement gottwaldi surnukeha palsameeriti ning ...  Estonian\n",
       "1      sebes joseph pereira thomas  på eng the jesuit...   Swedish\n",
       "2      ถนนเจริญกรุง อักษรโรมัน thanon charoen krung เ...      Thai\n",
       "3      விசாகப்பட்டினம் தமிழ்ச்சங்கத்தை இந்துப் பத்திர...     Tamil\n",
       "4      de spons behoort tot het geslacht haliclona en...     Dutch\n",
       "...                                                  ...       ...\n",
       "21995  hors du terrain les années  et  sont des année...    French\n",
       "21996  ใน พศ  หลักจากที่เสด็จประพาสแหลมมลายู ชวา อินเ...      Thai\n",
       "21997  con motivo de la celebración del septuagésimoq...   Spanish\n",
       "21998  年月，當時還只有歲的她在美國出道，以mai-k名義推出首張英文《baby i like》，由...   Chinese\n",
       "21999   aprilie sonda spațială messenger a nasa și-a ...  Romanian\n",
       "\n",
       "[22000 rows x 2 columns]"
      ]
     },
     "execution_count": 27,
     "metadata": {},
     "output_type": "execute_result"
    }
   ],
   "source": [
    "df = pd.read_csv(\"dataset.csv\")\n",
    "df"
   ]
  },
  {
   "cell_type": "code",
   "execution_count": 28,
   "id": "e76844dc",
   "metadata": {},
   "outputs": [
    {
     "data": {
      "text/plain": [
       "array(['Estonian', 'Swedish', 'Thai', 'Tamil', 'Dutch', 'Japanese',\n",
       "       'Turkish', 'Latin', 'Urdu', 'Indonesian', 'Portugese', 'French',\n",
       "       'Chinese', 'Korean', 'Hindi', 'Spanish', 'Pushto', 'Persian',\n",
       "       'Romanian', 'Russian', 'English', 'Arabic'], dtype=object)"
      ]
     },
     "execution_count": 28,
     "metadata": {},
     "output_type": "execute_result"
    }
   ],
   "source": [
    "df.language.unique()"
   ]
  },
  {
   "cell_type": "code",
   "execution_count": 29,
   "id": "36a20fc8",
   "metadata": {},
   "outputs": [],
   "source": [
    "# # example of a ordinal encoding\n",
    "# from numpy import asarray\n",
    "# from sklearn.preprocessing import OrdinalEncoder\n",
    "# # define data\n",
    "# data = asarray([['red'], ['green'], ['blue']])\n",
    "# print(data)\n",
    "# # define ordinal encoding\n",
    "# encoder = OrdinalEncoder()\n",
    "# # transform data\n",
    "# result = encoder.fit_transform(data)\n",
    "# print(result)"
   ]
  },
  {
   "cell_type": "code",
   "execution_count": 30,
   "id": "1086e308",
   "metadata": {},
   "outputs": [
    {
     "data": {
      "text/plain": [
       "0"
      ]
     },
     "execution_count": 30,
     "metadata": {},
     "output_type": "execute_result"
    }
   ],
   "source": [
    "df.Text.isna().sum()"
   ]
  },
  {
   "cell_type": "code",
   "execution_count": 31,
   "id": "5ca16f01",
   "metadata": {},
   "outputs": [
    {
     "data": {
      "text/plain": [
       "0"
      ]
     },
     "execution_count": 31,
     "metadata": {},
     "output_type": "execute_result"
    }
   ],
   "source": [
    "df.language.isna().sum()"
   ]
  },
  {
   "cell_type": "code",
   "execution_count": 12,
   "id": "7af643e5",
   "metadata": {},
   "outputs": [],
   "source": [
    "# def funct_enc(i):\n",
    "#     enc = OneHotEncoder(handle_unknown='ignore')\n",
    "#     enc.fit(i)\n",
    "#     enc.categories_\n",
    "#     df_enc = enc.transform(i)\n",
    "#     df_encode = pd.DataFrame(df_enc.toarray(), columns = enc.get_feature_names_out())\n",
    "#     return df_encode"
   ]
  },
  {
   "cell_type": "code",
   "execution_count": 13,
   "id": "9cf50ec5",
   "metadata": {},
   "outputs": [],
   "source": [
    "# text_encode = funct_enc(df_text)\n",
    "# text_encode"
   ]
  },
  {
   "cell_type": "code",
   "execution_count": null,
   "id": "399cfdf1",
   "metadata": {},
   "outputs": [],
   "source": []
  },
  {
   "cell_type": "markdown",
   "id": "0ae86caa",
   "metadata": {},
   "source": [
    "* Separation des données"
   ]
  },
  {
   "cell_type": "code",
   "execution_count": 35,
   "id": "42628b76",
   "metadata": {},
   "outputs": [],
   "source": [
    "X_train, X_test, y_train, y_test = train_test_split(\n",
    "  df.Text, df.language, test_size=0.3, random_state = 42\n",
    ")"
   ]
  },
  {
   "cell_type": "markdown",
   "id": "e6060466",
   "metadata": {},
   "source": [
    "* Model de classification"
   ]
  },
  {
   "cell_type": "code",
   "execution_count": 46,
   "id": "6640ed03",
   "metadata": {},
   "outputs": [],
   "source": [
    "c_svm = SVC(gamma=0.001)"
   ]
  },
  {
   "cell_type": "code",
   "execution_count": 47,
   "id": "da922dad",
   "metadata": {},
   "outputs": [
    {
     "data": {
      "text/plain": [
       "Pipeline(steps=[('countvectorizer', CountVectorizer()),\n",
       "                ('tfidftransformer', TfidfTransformer()),\n",
       "                ('svc', SVC(gamma=0.001))])"
      ]
     },
     "execution_count": 47,
     "metadata": {},
     "output_type": "execute_result"
    }
   ],
   "source": [
    "pipe = make_pipeline(CountVectorizer(), TfidfTransformer(), c_svm)\n",
    "pipe"
   ]
  },
  {
   "cell_type": "code",
   "execution_count": 52,
   "id": "eb94d21b",
   "metadata": {},
   "outputs": [
    {
     "data": {
      "text/plain": [
       "{'memory': None,\n",
       " 'steps': [('countvectorizer', CountVectorizer()),\n",
       "  ('tfidftransformer', TfidfTransformer()),\n",
       "  ('svc', SVC(gamma=0.001))],\n",
       " 'verbose': False,\n",
       " 'countvectorizer': CountVectorizer(),\n",
       " 'tfidftransformer': TfidfTransformer(),\n",
       " 'svc': SVC(gamma=0.001),\n",
       " 'countvectorizer__analyzer': 'word',\n",
       " 'countvectorizer__binary': False,\n",
       " 'countvectorizer__decode_error': 'strict',\n",
       " 'countvectorizer__dtype': numpy.int64,\n",
       " 'countvectorizer__encoding': 'utf-8',\n",
       " 'countvectorizer__input': 'content',\n",
       " 'countvectorizer__lowercase': True,\n",
       " 'countvectorizer__max_df': 1.0,\n",
       " 'countvectorizer__max_features': None,\n",
       " 'countvectorizer__min_df': 1,\n",
       " 'countvectorizer__ngram_range': (1, 1),\n",
       " 'countvectorizer__preprocessor': None,\n",
       " 'countvectorizer__stop_words': None,\n",
       " 'countvectorizer__strip_accents': None,\n",
       " 'countvectorizer__token_pattern': '(?u)\\\\b\\\\w\\\\w+\\\\b',\n",
       " 'countvectorizer__tokenizer': None,\n",
       " 'countvectorizer__vocabulary': None,\n",
       " 'tfidftransformer__norm': 'l2',\n",
       " 'tfidftransformer__smooth_idf': True,\n",
       " 'tfidftransformer__sublinear_tf': False,\n",
       " 'tfidftransformer__use_idf': True,\n",
       " 'svc__C': 1.0,\n",
       " 'svc__break_ties': False,\n",
       " 'svc__cache_size': 200,\n",
       " 'svc__class_weight': None,\n",
       " 'svc__coef0': 0.0,\n",
       " 'svc__decision_function_shape': 'ovr',\n",
       " 'svc__degree': 3,\n",
       " 'svc__gamma': 0.001,\n",
       " 'svc__kernel': 'rbf',\n",
       " 'svc__max_iter': -1,\n",
       " 'svc__probability': False,\n",
       " 'svc__random_state': None,\n",
       " 'svc__shrinking': True,\n",
       " 'svc__tol': 0.001,\n",
       " 'svc__verbose': False}"
      ]
     },
     "execution_count": 52,
     "metadata": {},
     "output_type": "execute_result"
    }
   ],
   "source": [
    "pipe.get_params()"
   ]
  },
  {
   "cell_type": "code",
   "execution_count": 49,
   "id": "e91b6dd3",
   "metadata": {},
   "outputs": [
    {
     "data": {
      "text/plain": [
       "Pipeline(steps=[('countvectorizer', CountVectorizer()),\n",
       "                ('tfidftransformer', TfidfTransformer()),\n",
       "                ('svc', SVC(gamma=0.001))])"
      ]
     },
     "execution_count": 49,
     "metadata": {},
     "output_type": "execute_result"
    }
   ],
   "source": [
    "pipe.fit(X_train, y_train)"
   ]
  },
  {
   "cell_type": "markdown",
   "id": "65310ef6",
   "metadata": {},
   "source": [
    "* Method GridsearchCV"
   ]
  },
  {
   "cell_type": "code",
   "execution_count": 69,
   "id": "cebcc055",
   "metadata": {},
   "outputs": [],
   "source": [
    "parameters = {\n",
    "    'svc__gamma': np.logspace(-5, -1, 20)\n",
    "}"
   ]
  },
  {
   "cell_type": "code",
   "execution_count": 70,
   "id": "f501e196",
   "metadata": {},
   "outputs": [],
   "source": [
    "Mgrid = GridSearchCV(pipe, parameters, cv = 5, n_jobs = -1)"
   ]
  },
  {
   "cell_type": "code",
   "execution_count": 71,
   "id": "42d3bc2c",
   "metadata": {},
   "outputs": [],
   "source": [
    "# dir(Mgrid)"
   ]
  },
  {
   "cell_type": "code",
   "execution_count": 72,
   "id": "6a42f6c8",
   "metadata": {},
   "outputs": [
    {
     "data": {
      "text/plain": [
       "GridSearchCV(cv=5,\n",
       "             estimator=Pipeline(steps=[('countvectorizer', CountVectorizer()),\n",
       "                                       ('tfidftransformer', TfidfTransformer()),\n",
       "                                       ('svc', SVC(gamma=0.001))]),\n",
       "             n_jobs=-1,\n",
       "             param_grid={'svc__gamma': array([1.00000000e-05, 1.62377674e-05, 2.63665090e-05, 4.28133240e-05,\n",
       "       6.95192796e-05, 1.12883789e-04, 1.83298071e-04, 2.97635144e-04,\n",
       "       4.83293024e-04, 7.84759970e-04, 1.27427499e-03, 2.06913808e-03,\n",
       "       3.35981829e-03, 5.45559478e-03, 8.85866790e-03, 1.43844989e-02,\n",
       "       2.33572147e-02, 3.79269019e-02, 6.15848211e-02, 1.00000000e-01])})"
      ]
     },
     "execution_count": 72,
     "metadata": {},
     "output_type": "execute_result"
    }
   ],
   "source": [
    "Mgrid.fit(X_train, y_train)"
   ]
  },
  {
   "cell_type": "code",
   "execution_count": 73,
   "id": "35083b69",
   "metadata": {},
   "outputs": [
    {
     "data": {
      "text/plain": [
       "0.9038311688311689"
      ]
     },
     "execution_count": 73,
     "metadata": {},
     "output_type": "execute_result"
    }
   ],
   "source": [
    "Mgrid.best_score_"
   ]
  },
  {
   "cell_type": "code",
   "execution_count": 74,
   "id": "104306f8",
   "metadata": {},
   "outputs": [
    {
     "name": "stdout",
     "output_type": "stream",
     "text": [
      "svc__gamma: 0.1\n"
     ]
    }
   ],
   "source": [
    "for param_name in sorted(parameters.keys()):\n",
    "     print(\"%s: %r\" % (param_name, Mgrid.best_params_[param_name]))"
   ]
  },
  {
   "cell_type": "code",
   "execution_count": 88,
   "id": "61bb6a09",
   "metadata": {},
   "outputs": [
    {
     "data": {
      "text/plain": [
       "['langage_detectors.pkl']"
      ]
     },
     "execution_count": 88,
     "metadata": {},
     "output_type": "execute_result"
    }
   ],
   "source": [
    "joblib.dump(value = Mgrid.best_estimator_, filename = 'langage_detectors.pkl')"
   ]
  },
  {
   "cell_type": "markdown",
   "id": "72c50be0",
   "metadata": {},
   "source": [
    "* Chargement du model"
   ]
  },
  {
   "cell_type": "code",
   "execution_count": 89,
   "id": "5e31378a",
   "metadata": {},
   "outputs": [],
   "source": [
    "Mgrid_ = joblib.load(filename = 'langage_detectors.pkl')"
   ]
  },
  {
   "cell_type": "code",
   "execution_count": 90,
   "id": "a5594ec4",
   "metadata": {},
   "outputs": [
    {
     "data": {
      "text/plain": [
       "0.9174242424242425"
      ]
     },
     "execution_count": 90,
     "metadata": {},
     "output_type": "execute_result"
    }
   ],
   "source": [
    "Mgrid_.score(X_test, y_test)"
   ]
  },
  {
   "cell_type": "code",
   "execution_count": 91,
   "id": "67290652",
   "metadata": {},
   "outputs": [],
   "source": [
    "Mgrid_predict = Mgrid_.predict(X_test)"
   ]
  },
  {
   "cell_type": "markdown",
   "id": "ff9f7cb1",
   "metadata": {},
   "source": [
    "* Metrics de classification"
   ]
  },
  {
   "cell_type": "code",
   "execution_count": 92,
   "id": "6fcc2211",
   "metadata": {
    "scrolled": true
   },
   "outputs": [
    {
     "name": "stdout",
     "output_type": "stream",
     "text": [
      "              precision    recall  f1-score   support\n",
      "\n",
      "      Arabic       1.00      0.96      0.98       300\n",
      "     Chinese       0.39      0.97      0.55       291\n",
      "       Dutch       1.00      0.96      0.98       313\n",
      "     English       0.79      0.97      0.87       289\n",
      "    Estonian       1.00      0.90      0.95       308\n",
      "      French       0.96      0.97      0.97       287\n",
      "       Hindi       1.00      0.97      0.99       314\n",
      "  Indonesian       1.00      0.97      0.98       295\n",
      "    Japanese       0.99      0.34      0.50       302\n",
      "      Korean       1.00      0.89      0.94       296\n",
      "       Latin       0.99      0.86      0.92       312\n",
      "     Persian       1.00      0.97      0.98       299\n",
      "   Portugese       0.99      0.95      0.97       293\n",
      "      Pushto       1.00      0.94      0.97       303\n",
      "    Romanian       1.00      0.96      0.98       291\n",
      "     Russian       0.99      0.86      0.92       302\n",
      "     Spanish       1.00      0.96      0.98       287\n",
      "     Swedish       1.00      0.99      1.00       290\n",
      "       Tamil       1.00      0.98      0.99       301\n",
      "        Thai       1.00      0.94      0.97       305\n",
      "     Turkish       1.00      0.91      0.95       298\n",
      "        Urdu       1.00      0.97      0.98       324\n",
      "\n",
      "    accuracy                           0.92      6600\n",
      "   macro avg       0.96      0.92      0.92      6600\n",
      "weighted avg       0.96      0.92      0.92      6600\n",
      "\n"
     ]
    }
   ],
   "source": [
    "print(metrics.classification_report(y_test, Mgrid_predict))"
   ]
  },
  {
   "cell_type": "markdown",
   "id": "f12d8d72",
   "metadata": {},
   "source": [
    "* Inference et Evaluation"
   ]
  },
  {
   "cell_type": "code",
   "execution_count": 93,
   "id": "46dbbd00",
   "metadata": {},
   "outputs": [
    {
     "data": {
      "text/plain": [
       "array(['French'], dtype=object)"
      ]
     },
     "execution_count": 93,
     "metadata": {},
     "output_type": "execute_result"
    }
   ],
   "source": [
    "Mgrid_.predict(['je vais au marche, il a des problème comme moi. on fini la formation demain. Si Paris gagne la coupe du monde, les français vont ouvrir leurs grandes geules '])"
   ]
  },
  {
   "cell_type": "code",
   "execution_count": 82,
   "id": "bc29a75e",
   "metadata": {},
   "outputs": [],
   "source": []
  },
  {
   "cell_type": "code",
   "execution_count": null,
   "id": "6257f513",
   "metadata": {},
   "outputs": [],
   "source": []
  }
 ],
 "metadata": {
  "kernelspec": {
   "display_name": "Python 3 (ipykernel)",
   "language": "python",
   "name": "python3"
  },
  "language_info": {
   "codemirror_mode": {
    "name": "ipython",
    "version": 3
   },
   "file_extension": ".py",
   "mimetype": "text/x-python",
   "name": "python",
   "nbconvert_exporter": "python",
   "pygments_lexer": "ipython3",
   "version": "3.9.12"
  }
 },
 "nbformat": 4,
 "nbformat_minor": 5
}
