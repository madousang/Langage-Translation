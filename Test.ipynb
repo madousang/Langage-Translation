{
 "cells": [
  {
   "cell_type": "code",
   "execution_count": 1,
   "id": "70822468",
   "metadata": {},
   "outputs": [],
   "source": [
    "%matplotlib inline"
   ]
  },
  {
   "cell_type": "code",
   "execution_count": 2,
   "id": "63bc8485",
   "metadata": {},
   "outputs": [
    {
     "name": "stdout",
     "output_type": "stream",
     "text": [
      "Defaulting to user installation because normal site-packages is not writeable\n",
      "Requirement already satisfied: mercury in c:\\users\\usuario\\appdata\\roaming\\python\\python39\\site-packages (2.3.4)\n",
      "Requirement already satisfied: whitenoise>=5.3.0 in c:\\users\\usuario\\appdata\\roaming\\python\\python39\\site-packages (from mercury) (5.3.0)\n",
      "Requirement already satisfied: ipython-genutils in c:\\programdata\\anaconda3\\lib\\site-packages (from mercury) (0.2.0)\n",
      "Requirement already satisfied: ipython>=7.30.1 in c:\\users\\usuario\\appdata\\roaming\\python\\python39\\site-packages (from mercury) (7.30.1)\n",
      "Requirement already satisfied: ipywidgets==8.0.3 in c:\\users\\usuario\\appdata\\roaming\\python\\python39\\site-packages (from mercury) (8.0.3)\n",
      "Requirement already satisfied: croniter>=1.3.5 in c:\\users\\usuario\\appdata\\roaming\\python\\python39\\site-packages (from mercury) (1.3.5)\n",
      "Requirement already satisfied: markdown==3.3.6 in c:\\users\\usuario\\appdata\\roaming\\python\\python39\\site-packages (from mercury) (3.3.6)\n",
      "Requirement already satisfied: psutil>=5.8.0 in c:\\users\\usuario\\appdata\\roaming\\python\\python39\\site-packages (from mercury) (5.8.0)\n",
      "Requirement already satisfied: cryptography in c:\\programdata\\anaconda3\\lib\\site-packages (from mercury) (38.0.1)\n",
      "Requirement already satisfied: sqlalchemy==1.4.27 in c:\\users\\usuario\\appdata\\roaming\\python\\python39\\site-packages (from mercury) (1.4.27)\n",
      "Requirement already satisfied: nbconvert<=7.6.0,>=6.5.0 in c:\\users\\usuario\\appdata\\roaming\\python\\python39\\site-packages (from mercury) (7.6.0)\n",
      "Requirement already satisfied: django-cors-headers==3.10.1 in c:\\users\\usuario\\appdata\\roaming\\python\\python39\\site-packages (from mercury) (3.10.1)\n",
      "Requirement already satisfied: django==4.2 in c:\\users\\usuario\\appdata\\roaming\\python\\python39\\site-packages (from mercury) (4.2)\n",
      "Requirement already satisfied: channels[daphne]>=4.0.0 in c:\\users\\usuario\\appdata\\roaming\\python\\python39\\site-packages (from mercury) (4.0.0)\n",
      "Requirement already satisfied: djangorestframework==3.14.0 in c:\\users\\usuario\\appdata\\roaming\\python\\python39\\site-packages (from mercury) (3.14.0)\n",
      "Requirement already satisfied: ipykernel>=6.6.0 in c:\\users\\usuario\\appdata\\roaming\\python\\python39\\site-packages (from mercury) (6.6.0)\n",
      "Requirement already satisfied: boto3==1.26.83 in c:\\users\\usuario\\appdata\\roaming\\python\\python39\\site-packages (from mercury) (1.26.83)\n",
      "Requirement already satisfied: websocket-client>=1.4.2 in c:\\users\\usuario\\appdata\\roaming\\python\\python39\\site-packages (from mercury) (1.6.1)\n",
      "Requirement already satisfied: execnb in c:\\users\\usuario\\appdata\\roaming\\python\\python39\\site-packages (from mercury) (0.1.5)\n",
      "Requirement already satisfied: pyopenssl>=23.1.1 in c:\\users\\usuario\\appdata\\roaming\\python\\python39\\site-packages (from mercury) (23.2.0)\n",
      "Requirement already satisfied: celery>=5.1.2 in c:\\users\\usuario\\appdata\\roaming\\python\\python39\\site-packages (from mercury) (5.1.2)\n",
      "Requirement already satisfied: dj-rest-auth[with_social]==3.0.0 in c:\\users\\usuario\\appdata\\roaming\\python\\python39\\site-packages (from mercury) (3.0.0)\n",
      "Requirement already satisfied: pyppeteer==1.0.2 in c:\\users\\usuario\\appdata\\roaming\\python\\python39\\site-packages (from mercury) (1.0.2)\n",
      "Requirement already satisfied: gevent in c:\\users\\usuario\\appdata\\roaming\\python\\python39\\site-packages (from mercury) (21.12.0)\n",
      "Requirement already satisfied: django-filter==21.1 in c:\\users\\usuario\\appdata\\roaming\\python\\python39\\site-packages (from mercury) (21.1)\n",
      "Requirement already satisfied: pyyaml==6.0 in c:\\users\\usuario\\appdata\\roaming\\python\\python39\\site-packages (from mercury) (6.0)\n",
      "Requirement already satisfied: python-dotenv>=0.19.2 in c:\\users\\usuario\\appdata\\roaming\\python\\python39\\site-packages (from mercury) (0.19.2)\n",
      "Requirement already satisfied: django-drf-filepond==0.4.1 in c:\\users\\usuario\\appdata\\roaming\\python\\python39\\site-packages (from mercury) (0.4.1)\n",
      "Requirement already satisfied: botocore<1.30.0,>=1.29.83 in c:\\users\\usuario\\appdata\\roaming\\python\\python39\\site-packages (from boto3==1.26.83->mercury) (1.29.165)\n",
      "Requirement already satisfied: jmespath<2.0.0,>=0.7.1 in c:\\programdata\\anaconda3\\lib\\site-packages (from boto3==1.26.83->mercury) (0.10.0)\n",
      "Requirement already satisfied: s3transfer<0.7.0,>=0.6.0 in c:\\programdata\\anaconda3\\lib\\site-packages (from boto3==1.26.83->mercury) (0.6.0)\n",
      "Requirement already satisfied: django-allauth<0.53.0,>=0.40.0 in c:\\users\\usuario\\appdata\\roaming\\python\\python39\\site-packages (from dj-rest-auth[with_social]==3.0.0->mercury) (0.52.0)\n",
      "Requirement already satisfied: sqlparse>=0.3.1 in c:\\users\\usuario\\appdata\\roaming\\python\\python39\\site-packages (from django==4.2->mercury) (0.4.4)\n",
      "Requirement already satisfied: tzdata in c:\\users\\usuario\\appdata\\roaming\\python\\python39\\site-packages (from django==4.2->mercury) (2023.3)\n",
      "Requirement already satisfied: asgiref<4,>=3.6.0 in c:\\users\\usuario\\appdata\\roaming\\python\\python39\\site-packages (from django==4.2->mercury) (3.7.2)\n",
      "Requirement already satisfied: shortuuid>=0.5.0 in c:\\users\\usuario\\appdata\\roaming\\python\\python39\\site-packages (from django-drf-filepond==0.4.1->mercury) (1.0.11)\n",
      "Requirement already satisfied: six>=1.14.0 in c:\\programdata\\anaconda3\\lib\\site-packages (from django-drf-filepond==0.4.1->mercury) (1.16.0)\n",
      "Requirement already satisfied: django-storages>=1.9.1 in c:\\users\\usuario\\appdata\\roaming\\python\\python39\\site-packages (from django-drf-filepond==0.4.1->mercury) (1.13.2)\n",
      "Requirement already satisfied: requests>=2.20.1 in c:\\programdata\\anaconda3\\lib\\site-packages (from django-drf-filepond==0.4.1->mercury) (2.28.1)\n",
      "Requirement already satisfied: pytz in c:\\programdata\\anaconda3\\lib\\site-packages (from djangorestframework==3.14.0->mercury) (2022.1)\n",
      "Requirement already satisfied: traitlets>=4.3.1 in c:\\programdata\\anaconda3\\lib\\site-packages (from ipywidgets==8.0.3->mercury) (5.1.1)\n",
      "Requirement already satisfied: widgetsnbextension~=4.0 in c:\\users\\usuario\\appdata\\roaming\\python\\python39\\site-packages (from ipywidgets==8.0.3->mercury) (4.0.8)\n",
      "Requirement already satisfied: jupyterlab-widgets~=3.0 in c:\\users\\usuario\\appdata\\roaming\\python\\python39\\site-packages (from ipywidgets==8.0.3->mercury) (3.0.8)\n",
      "Requirement already satisfied: importlib-metadata>=4.4 in c:\\programdata\\anaconda3\\lib\\site-packages (from markdown==3.3.6->mercury) (4.11.3)\n",
      "Requirement already satisfied: websockets<11.0,>=10.0 in c:\\users\\usuario\\appdata\\roaming\\python\\python39\\site-packages (from pyppeteer==1.0.2->mercury) (10.4)\n",
      "Requirement already satisfied: appdirs<2.0.0,>=1.4.3 in c:\\programdata\\anaconda3\\lib\\site-packages (from pyppeteer==1.0.2->mercury) (1.4.4)\n",
      "Requirement already satisfied: pyee<9.0.0,>=8.1.0 in c:\\users\\usuario\\appdata\\roaming\\python\\python39\\site-packages (from pyppeteer==1.0.2->mercury) (8.2.2)\n",
      "Requirement already satisfied: certifi>=2021 in c:\\programdata\\anaconda3\\lib\\site-packages (from pyppeteer==1.0.2->mercury) (2022.12.7)\n",
      "Requirement already satisfied: tqdm<5.0.0,>=4.42.1 in c:\\programdata\\anaconda3\\lib\\site-packages (from pyppeteer==1.0.2->mercury) (4.64.1)\n",
      "Requirement already satisfied: urllib3<2.0.0,>=1.25.8 in c:\\programdata\\anaconda3\\lib\\site-packages (from pyppeteer==1.0.2->mercury) (1.26.12)\n",
      "Requirement already satisfied: greenlet!=0.4.17 in c:\\programdata\\anaconda3\\lib\\site-packages (from sqlalchemy==1.4.27->mercury) (1.1.1)\n",
      "Requirement already satisfied: billiard<4.0,>=3.6.4.0 in c:\\users\\usuario\\appdata\\roaming\\python\\python39\\site-packages (from celery>=5.1.2->mercury) (3.6.4.0)\n",
      "Requirement already satisfied: click-repl>=0.1.6 in c:\\users\\usuario\\appdata\\roaming\\python\\python39\\site-packages (from celery>=5.1.2->mercury) (0.3.0)\n",
      "Requirement already satisfied: click-didyoumean>=0.0.3 in c:\\users\\usuario\\appdata\\roaming\\python\\python39\\site-packages (from celery>=5.1.2->mercury) (0.3.0)\n",
      "Requirement already satisfied: click-plugins>=1.1.1 in c:\\users\\usuario\\appdata\\roaming\\python\\python39\\site-packages (from celery>=5.1.2->mercury) (1.1.1)\n",
      "Requirement already satisfied: kombu<6.0,>=5.1.0 in c:\\users\\usuario\\appdata\\roaming\\python\\python39\\site-packages (from celery>=5.1.2->mercury) (5.3.1)\n",
      "Requirement already satisfied: vine<6.0,>=5.0.0 in c:\\users\\usuario\\appdata\\roaming\\python\\python39\\site-packages (from celery>=5.1.2->mercury) (5.0.0)\n",
      "Requirement already satisfied: setuptools in c:\\programdata\\anaconda3\\lib\\site-packages (from celery>=5.1.2->mercury) (65.5.0)\n",
      "Requirement already satisfied: click<8.0,>=7.0 in c:\\users\\usuario\\appdata\\roaming\\python\\python39\\site-packages (from celery>=5.1.2->mercury) (7.1.2)\n",
      "Requirement already satisfied: daphne>=4.0.0 in c:\\users\\usuario\\appdata\\roaming\\python\\python39\\site-packages (from channels[daphne]>=4.0.0->mercury) (4.0.0)\n",
      "Requirement already satisfied: python-dateutil in c:\\users\\usuario\\appdata\\roaming\\python\\python39\\site-packages (from croniter>=1.3.5->mercury) (2.7.5)\n",
      "Requirement already satisfied: tornado<7.0,>=4.2 in c:\\programdata\\anaconda3\\lib\\site-packages (from ipykernel>=6.6.0->mercury) (6.1)\n",
      "Requirement already satisfied: matplotlib-inline<0.2.0,>=0.1.0 in c:\\programdata\\anaconda3\\lib\\site-packages (from ipykernel>=6.6.0->mercury) (0.1.6)\n",
      "Requirement already satisfied: debugpy<2.0,>=1.0.0 in c:\\programdata\\anaconda3\\lib\\site-packages (from ipykernel>=6.6.0->mercury) (1.5.1)\n",
      "Requirement already satisfied: jupyter-client<8.0 in c:\\programdata\\anaconda3\\lib\\site-packages (from ipykernel>=6.6.0->mercury) (6.1.12)\n",
      "Requirement already satisfied: colorama in c:\\programdata\\anaconda3\\lib\\site-packages (from ipython>=7.30.1->mercury) (0.4.5)\n",
      "Requirement already satisfied: pygments in c:\\programdata\\anaconda3\\lib\\site-packages (from ipython>=7.30.1->mercury) (2.11.2)\n",
      "Requirement already satisfied: backcall in c:\\programdata\\anaconda3\\lib\\site-packages (from ipython>=7.30.1->mercury) (0.2.0)\n",
      "Requirement already satisfied: pickleshare in c:\\programdata\\anaconda3\\lib\\site-packages (from ipython>=7.30.1->mercury) (0.7.5)\n",
      "Requirement already satisfied: decorator in c:\\programdata\\anaconda3\\lib\\site-packages (from ipython>=7.30.1->mercury) (5.1.1)\n",
      "Requirement already satisfied: prompt-toolkit!=3.0.0,!=3.0.1,<3.1.0,>=2.0.0 in c:\\users\\usuario\\appdata\\roaming\\python\\python39\\site-packages (from ipython>=7.30.1->mercury) (3.0.39)\n",
      "Requirement already satisfied: jedi>=0.16 in c:\\programdata\\anaconda3\\lib\\site-packages (from ipython>=7.30.1->mercury) (0.18.1)\n",
      "Requirement already satisfied: tinycss2 in c:\\users\\usuario\\appdata\\roaming\\python\\python39\\site-packages (from nbconvert<=7.6.0,>=6.5.0->mercury) (1.2.1)\n",
      "Requirement already satisfied: beautifulsoup4 in c:\\programdata\\anaconda3\\lib\\site-packages (from nbconvert<=7.6.0,>=6.5.0->mercury) (4.11.1)\n",
      "Requirement already satisfied: defusedxml in c:\\programdata\\anaconda3\\lib\\site-packages (from nbconvert<=7.6.0,>=6.5.0->mercury) (0.7.1)\n",
      "Requirement already satisfied: bleach!=5.0.0 in c:\\programdata\\anaconda3\\lib\\site-packages (from nbconvert<=7.6.0,>=6.5.0->mercury) (4.1.0)\n",
      "Requirement already satisfied: jupyterlab-pygments in c:\\programdata\\anaconda3\\lib\\site-packages (from nbconvert<=7.6.0,>=6.5.0->mercury) (0.1.2)\n",
      "Requirement already satisfied: pandocfilters>=1.4.1 in c:\\programdata\\anaconda3\\lib\\site-packages (from nbconvert<=7.6.0,>=6.5.0->mercury) (1.5.0)\n",
      "Requirement already satisfied: nbformat>=5.7 in c:\\users\\usuario\\appdata\\roaming\\python\\python39\\site-packages (from nbconvert<=7.6.0,>=6.5.0->mercury) (5.9.2)\n",
      "Requirement already satisfied: markupsafe>=2.0 in c:\\programdata\\anaconda3\\lib\\site-packages (from nbconvert<=7.6.0,>=6.5.0->mercury) (2.0.1)\n",
      "Requirement already satisfied: jupyter-core>=4.7 in c:\\programdata\\anaconda3\\lib\\site-packages (from nbconvert<=7.6.0,>=6.5.0->mercury) (4.11.1)\n",
      "Requirement already satisfied: jinja2>=3.0 in c:\\users\\usuario\\appdata\\roaming\\python\\python39\\site-packages (from nbconvert<=7.6.0,>=6.5.0->mercury) (3.1.2)\n",
      "Requirement already satisfied: nbclient>=0.5.0 in c:\\programdata\\anaconda3\\lib\\site-packages (from nbconvert<=7.6.0,>=6.5.0->mercury) (0.5.13)\n",
      "Requirement already satisfied: mistune<4,>=2.0.3 in c:\\users\\usuario\\appdata\\roaming\\python\\python39\\site-packages (from nbconvert<=7.6.0,>=6.5.0->mercury) (3.0.1)\n",
      "Requirement already satisfied: packaging in c:\\programdata\\anaconda3\\lib\\site-packages (from nbconvert<=7.6.0,>=6.5.0->mercury) (21.3)\n",
      "Requirement already satisfied: cffi>=1.12 in c:\\programdata\\anaconda3\\lib\\site-packages (from cryptography->mercury) (1.15.1)\n",
      "Requirement already satisfied: fastcore>=1.5.5 in c:\\users\\usuario\\appdata\\roaming\\python\\python39\\site-packages (from execnb->mercury) (1.5.29)\n",
      "Requirement already satisfied: zope.event in c:\\users\\usuario\\appdata\\roaming\\python\\python39\\site-packages (from gevent->mercury) (5.0)\n",
      "Requirement already satisfied: zope.interface in c:\\programdata\\anaconda3\\lib\\site-packages (from gevent->mercury) (5.4.0)\n",
      "Requirement already satisfied: typing-extensions>=4 in c:\\programdata\\anaconda3\\lib\\site-packages (from asgiref<4,>=3.6.0->django==4.2->mercury) (4.3.0)\n",
      "Requirement already satisfied: webencodings in c:\\programdata\\anaconda3\\lib\\site-packages (from bleach!=5.0.0->nbconvert<=7.6.0,>=6.5.0->mercury) (0.5.1)\n",
      "Requirement already satisfied: pycparser in c:\\programdata\\anaconda3\\lib\\site-packages (from cffi>=1.12->cryptography->mercury) (2.21)\n",
      "Requirement already satisfied: autobahn>=22.4.2 in c:\\users\\usuario\\appdata\\roaming\\python\\python39\\site-packages (from daphne>=4.0.0->channels[daphne]>=4.0.0->mercury) (23.6.2)\n",
      "Requirement already satisfied: twisted[tls]>=22.4 in c:\\users\\usuario\\appdata\\roaming\\python\\python39\\site-packages (from daphne>=4.0.0->channels[daphne]>=4.0.0->mercury) (22.10.0)\n",
      "Requirement already satisfied: requests-oauthlib>=0.3.0 in c:\\programdata\\anaconda3\\lib\\site-packages (from django-allauth<0.53.0,>=0.40.0->dj-rest-auth[with_social]==3.0.0->mercury) (1.3.0)\n",
      "Requirement already satisfied: pyjwt[crypto]>=1.7 in c:\\programdata\\anaconda3\\lib\\site-packages (from django-allauth<0.53.0,>=0.40.0->dj-rest-auth[with_social]==3.0.0->mercury) (2.4.0)\n",
      "Requirement already satisfied: python3-openid>=3.0.8 in c:\\users\\usuario\\appdata\\roaming\\python\\python39\\site-packages (from django-allauth<0.53.0,>=0.40.0->dj-rest-auth[with_social]==3.0.0->mercury) (3.2.0)\n",
      "Requirement already satisfied: pip in c:\\programdata\\anaconda3\\lib\\site-packages (from fastcore>=1.5.5->execnb->mercury) (22.2.2)\n",
      "Requirement already satisfied: zipp>=0.5 in c:\\programdata\\anaconda3\\lib\\site-packages (from importlib-metadata>=4.4->markdown==3.3.6->mercury) (3.8.0)\n",
      "Requirement already satisfied: parso<0.9.0,>=0.8.0 in c:\\programdata\\anaconda3\\lib\\site-packages (from jedi>=0.16->ipython>=7.30.1->mercury) (0.8.3)\n",
      "Requirement already satisfied: pyzmq>=13 in c:\\programdata\\anaconda3\\lib\\site-packages (from jupyter-client<8.0->ipykernel>=6.6.0->mercury) (23.2.0)\n",
      "Requirement already satisfied: pywin32>=1.0 in c:\\programdata\\anaconda3\\lib\\site-packages (from jupyter-core>=4.7->nbconvert<=7.6.0,>=6.5.0->mercury) (302)\n",
      "Requirement already satisfied: amqp<6.0.0,>=5.1.1 in c:\\users\\usuario\\appdata\\roaming\\python\\python39\\site-packages (from kombu<6.0,>=5.1.0->celery>=5.1.2->mercury) (5.1.1)\n",
      "Requirement already satisfied: nest-asyncio in c:\\programdata\\anaconda3\\lib\\site-packages (from nbclient>=0.5.0->nbconvert<=7.6.0,>=6.5.0->mercury) (1.5.5)\n",
      "Requirement already satisfied: jsonschema>=2.6 in c:\\programdata\\anaconda3\\lib\\site-packages (from nbformat>=5.7->nbconvert<=7.6.0,>=6.5.0->mercury) (4.16.0)\n",
      "Requirement already satisfied: fastjsonschema in c:\\programdata\\anaconda3\\lib\\site-packages (from nbformat>=5.7->nbconvert<=7.6.0,>=6.5.0->mercury) (2.16.2)\n",
      "Requirement already satisfied: wcwidth in c:\\programdata\\anaconda3\\lib\\site-packages (from prompt-toolkit!=3.0.0,!=3.0.1,<3.1.0,>=2.0.0->ipython>=7.30.1->mercury) (0.2.5)\n",
      "Requirement already satisfied: charset-normalizer<3,>=2 in c:\\programdata\\anaconda3\\lib\\site-packages (from requests>=2.20.1->django-drf-filepond==0.4.1->mercury) (2.0.4)\n",
      "Requirement already satisfied: idna<4,>=2.5 in c:\\programdata\\anaconda3\\lib\\site-packages (from requests>=2.20.1->django-drf-filepond==0.4.1->mercury) (3.4)\n",
      "Requirement already satisfied: soupsieve>1.2 in c:\\programdata\\anaconda3\\lib\\site-packages (from beautifulsoup4->nbconvert<=7.6.0,>=6.5.0->mercury) (2.3.2.post1)\n",
      "Requirement already satisfied: pyparsing!=3.0.5,>=2.0.2 in c:\\programdata\\anaconda3\\lib\\site-packages (from packaging->nbconvert<=7.6.0,>=6.5.0->mercury) (3.0.9)\n",
      "Requirement already satisfied: txaio>=21.2.1 in c:\\users\\usuario\\appdata\\roaming\\python\\python39\\site-packages (from autobahn>=22.4.2->daphne>=4.0.0->channels[daphne]>=4.0.0->mercury) (23.1.1)\n",
      "Requirement already satisfied: hyperlink>=21.0.0 in c:\\programdata\\anaconda3\\lib\\site-packages (from autobahn>=22.4.2->daphne>=4.0.0->channels[daphne]>=4.0.0->mercury) (21.0.0)\n",
      "Requirement already satisfied: pyrsistent!=0.17.0,!=0.17.1,!=0.17.2,>=0.14.0 in c:\\programdata\\anaconda3\\lib\\site-packages (from jsonschema>=2.6->nbformat>=5.7->nbconvert<=7.6.0,>=6.5.0->mercury) (0.18.0)\n",
      "Requirement already satisfied: attrs>=17.4.0 in c:\\programdata\\anaconda3\\lib\\site-packages (from jsonschema>=2.6->nbformat>=5.7->nbconvert<=7.6.0,>=6.5.0->mercury) (21.4.0)\n",
      "Requirement already satisfied: oauthlib>=3.0.0 in c:\\programdata\\anaconda3\\lib\\site-packages (from requests-oauthlib>=0.3.0->django-allauth<0.53.0,>=0.40.0->dj-rest-auth[with_social]==3.0.0->mercury) (3.2.1)\n",
      "Requirement already satisfied: Automat>=0.8.0 in c:\\programdata\\anaconda3\\lib\\site-packages (from twisted[tls]>=22.4->daphne>=4.0.0->channels[daphne]>=4.0.0->mercury) (20.2.0)\n",
      "Requirement already satisfied: twisted-iocpsupport<2,>=1.0.2 in c:\\programdata\\anaconda3\\lib\\site-packages (from twisted[tls]>=22.4->daphne>=4.0.0->channels[daphne]>=4.0.0->mercury) (1.0.2)\n",
      "Requirement already satisfied: constantly>=15.1 in c:\\programdata\\anaconda3\\lib\\site-packages (from twisted[tls]>=22.4->daphne>=4.0.0->channels[daphne]>=4.0.0->mercury) (15.1.0)\n",
      "Requirement already satisfied: incremental>=21.3.0 in c:\\programdata\\anaconda3\\lib\\site-packages (from twisted[tls]>=22.4->daphne>=4.0.0->channels[daphne]>=4.0.0->mercury) (21.3.0)\n",
      "Requirement already satisfied: service-identity>=18.1.0 in c:\\programdata\\anaconda3\\lib\\site-packages (from twisted[tls]>=22.4->daphne>=4.0.0->channels[daphne]>=4.0.0->mercury) (18.1.0)\n",
      "Requirement already satisfied: pyasn1-modules in c:\\programdata\\anaconda3\\lib\\site-packages (from service-identity>=18.1.0->twisted[tls]>=22.4->daphne>=4.0.0->channels[daphne]>=4.0.0->mercury) (0.2.8)\n",
      "Requirement already satisfied: pyasn1 in c:\\programdata\\anaconda3\\lib\\site-packages (from service-identity>=18.1.0->twisted[tls]>=22.4->daphne>=4.0.0->channels[daphne]>=4.0.0->mercury) (0.4.8)\n",
      "Note: you may need to restart the kernel to use updated packages.\n"
     ]
    }
   ],
   "source": [
    "pip install mercury"
   ]
  },
  {
   "cell_type": "code",
   "execution_count": 4,
   "id": "c423872c",
   "metadata": {},
   "outputs": [],
   "source": [
    "# import pandas as pd\n",
    "# import numpy as np\n",
    "# import matplotlib.pyplot as plt\n",
    "# from sklearn.feature_extraction.text import CountVectorizer\n",
    "# from sklearn.feature_extraction.text import TfidfTransformer\n",
    "# from sklearn import metrics\n",
    "# from sklearn.svm import SVC\n",
    "# from sklearn.multioutput import MultiOutputClassifier\n",
    "# from sklearn.model_selection import train_test_split\n",
    "# from sklearn.pipeline import make_pipeline\n",
    "# from sklearn.linear_model import SGDClassifier\n",
    "# from sklearn.model_selection import GridSearchCV\n",
    "import joblib as job\n",
    "import mercury as mr\n",
    "from widgets.text import Text\n",
    "from widgets.app import App\n",
    "# import seaborn as sn"
   ]
  },
  {
   "cell_type": "code",
   "execution_count": 5,
   "id": "0082b1ab",
   "metadata": {},
   "outputs": [
    {
     "data": {
      "application/mercury+json": "{\n    \"widget\": \"App\",\n    \"title\": \"Text\",\n    \"description\": \"Demo of Text widget\",\n    \"show_code\": true,\n    \"show_prompt\": false,\n    \"output\": \"app\",\n    \"schedule\": \"\",\n    \"notify\": \"{}\",\n    \"continuous_update\": true,\n    \"static_notebook\": false,\n    \"show_sidebar\": true,\n    \"full_screen\": true,\n    \"allow_download\": true,\n    \"stop_on_error\": false,\n    \"model_id\": \"mercury-app\",\n    \"code_uid\": \"App.0.40.25.1-rand1d66d65c\"\n}",
      "text/html": [
       "<h3>Mercury Application</h3><small>This output won't appear in the web app.</small>"
      ],
      "text/plain": [
       "mercury.App"
      ]
     },
     "metadata": {},
     "output_type": "display_data"
    }
   ],
   "source": [
    "app = mr.App(title=\"Text\", description=\"Demo of Text widget\", show_code=True)"
   ]
  },
  {
   "cell_type": "code",
   "execution_count": 6,
   "id": "0510dc3e",
   "metadata": {},
   "outputs": [],
   "source": [
    "test = job.load(filename = 'langage_detectors.pkl')"
   ]
  },
  {
   "cell_type": "code",
   "execution_count": 7,
   "id": "a08f0af5",
   "metadata": {
    "scrolled": true
   },
   "outputs": [
    {
     "data": {
      "application/mercury+json": "{\n    \"widget\": \"Text\",\n    \"value\": \"French\",\n    \"rows\": 1,\n    \"label\": \"A quelle langue correspond ce texte ?\",\n    \"model_id\": \"d1608aa876b24bb384216134f5897815\",\n    \"code_uid\": \"Text.0.40.15.3.name1-randfe5d8b44\",\n    \"url_key\": \"name1\",\n    \"disabled\": false,\n    \"hidden\": false\n}",
      "application/vnd.jupyter.widget-view+json": {
       "model_id": "d1608aa876b24bb384216134f5897815",
       "version_major": 2,
       "version_minor": 0
      },
      "text/plain": [
       "mercury.Text"
      ]
     },
     "metadata": {},
     "output_type": "display_data"
    }
   ],
   "source": [
    "# add text widget\n",
    "val1 = test.predict(['je suis en formation avec beaucoup des personnes en ville à bamako au Mali'])\n",
    "name1 = mr.Text(value=val1[0], label=\"A quelle langue correspond ce texte ?\", rows=1, url_key=\"name1\")"
   ]
  },
  {
   "cell_type": "code",
   "execution_count": 8,
   "id": "daf33a44",
   "metadata": {},
   "outputs": [
    {
     "name": "stdout",
     "output_type": "stream",
     "text": [
      "C'est French!\n"
     ]
    }
   ],
   "source": [
    "print(f\"C'est {name1.value}!\")"
   ]
  },
  {
   "cell_type": "code",
   "execution_count": 9,
   "id": "12acdddc",
   "metadata": {},
   "outputs": [
    {
     "data": {
      "application/mercury+json": "{\n    \"widget\": \"Text\",\n    \"value\": \"English\",\n    \"rows\": 1,\n    \"label\": \"A quelle langue correspond ce texte ?\",\n    \"model_id\": \"971c98b0262240af80f2f02156c49fd4\",\n    \"code_uid\": \"Text.0.40.15.2.name2-rand3cca2d2e\",\n    \"url_key\": \"name2\",\n    \"disabled\": false,\n    \"hidden\": false\n}",
      "application/vnd.jupyter.widget-view+json": {
       "model_id": "971c98b0262240af80f2f02156c49fd4",
       "version_major": 2,
       "version_minor": 0
      },
      "text/plain": [
       "mercury.Text"
      ]
     },
     "metadata": {},
     "output_type": "display_data"
    }
   ],
   "source": [
    "val2 = test.predict(['I am in training with many people in town in Bamako in Mali. I go to the market, he has problems like me. we finish training tomorrow. If Paris wins the World Cup, the French will open their big mouths'])\n",
    "name2 = mr.Text(value=val2[0], label=\"A quelle langue correspond ce texte ?\", rows=1, url_key=\"name2\")"
   ]
  },
  {
   "cell_type": "code",
   "execution_count": 10,
   "id": "0e16a471",
   "metadata": {},
   "outputs": [
    {
     "name": "stdout",
     "output_type": "stream",
     "text": [
      "C'est English!\n"
     ]
    }
   ],
   "source": [
    "print(f\"C'est {name2.value}!\")"
   ]
  },
  {
   "cell_type": "code",
   "execution_count": null,
   "id": "d8bd2c0a",
   "metadata": {},
   "outputs": [],
   "source": []
  }
 ],
 "metadata": {
  "kernelspec": {
   "display_name": "Python 3 (ipykernel)",
   "language": "python",
   "name": "python3"
  },
  "language_info": {
   "codemirror_mode": {
    "name": "ipython",
    "version": 3
   },
   "file_extension": ".py",
   "mimetype": "text/x-python",
   "name": "python",
   "nbconvert_exporter": "python",
   "pygments_lexer": "ipython3",
   "version": "3.9.12"
  }
 },
 "nbformat": 4,
 "nbformat_minor": 5
}
